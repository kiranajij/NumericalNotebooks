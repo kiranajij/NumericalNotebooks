{
 "cells": [
  {
   "cell_type": "markdown",
   "metadata": {},
   "source": [
    "# Jacobi's Method for Eigenvalue"
   ]
  },
  {
   "cell_type": "code",
   "execution_count": 17,
   "metadata": {},
   "outputs": [
    {
     "data": {
      "text/plain": [
       "Rψ (generic function with 1 method)"
      ]
     },
     "execution_count": 17,
     "metadata": {},
     "output_type": "execute_result"
    }
   ],
   "source": [
    "using LinearAlgebra;\n",
    "\n",
    "function Rψ(A, p, q)\n",
    "    a = A[p, q];\n",
    "    b = A[q, q]-A[p, p];\n",
    "    c = -A[p, q];\n",
    "    \n",
    "    # Discriminant\n",
    "    D = b^2-4*a*c;\n",
    "    t1 = (-b+√D)/2a;\n",
    "    t2 = (-b-√D)/2a;\n",
    "    \n",
    "    if abs(t1)<abs(t2)\n",
    "        t = t1;\n",
    "    else\n",
    "        t =t2;\n",
    "    end\n",
    "    \n",
    "    # Now calculate value of sin and cos\n",
    "    c = 1/√(1+t^2);\n",
    "    s = t*c;\n",
    "    \n",
    "    # Assign to new Matrix\n",
    "    n = size(A, 1);\n",
    "    R = 1. .* Array(I, n, n);\n",
    "    \n",
    "    R[p, p] = c;\n",
    "    R[p, q] = s;\n",
    "    R[q, p] = -s;\n",
    "    R[q, q] = c;\n",
    "    \n",
    "    return R\n",
    "end"
   ]
  },
  {
   "cell_type": "code",
   "execution_count": 60,
   "metadata": {},
   "outputs": [
    {
     "data": {
      "text/plain": [
       "ClassicalJacobi (generic function with 1 method)"
      ]
     },
     "execution_count": 60,
     "metadata": {},
     "output_type": "execute_result"
    }
   ],
   "source": [
    "function SerialJacobi(A)\n",
    "    n = size(A, 1);\n",
    "    Rs = I;\n",
    "    for k in 1:10\n",
    "        for i in 2:n\n",
    "            for j in 1:i-1\n",
    "                R = Rψ(A, i, j);\n",
    "                Rs = Rs*R;\n",
    "                A = R'*A*R;\n",
    "                i, j\n",
    "#             display(R)\n",
    "            end\n",
    "        end\n",
    "    end\n",
    "    return A, Rs;\n",
    "end\n",
    "\n",
    "function ClassicalJacobi(A)\n",
    "    n = size(A, 1);\n",
    "    Rs = I;\n",
    "    \n",
    "    for i in 1:n^3\n",
    "        B = A[:, :];\n",
    "        for i=1:n\n",
    "            B[i,i] = 0\n",
    "        end\n",
    "        m, index = findmax(abs.(B))\n",
    "        p = index[1];\n",
    "        q = index[2];\n",
    "        \n",
    "        if p>q\n",
    "            tmp = q;\n",
    "            q = p;\n",
    "            p = tmp;\n",
    "        end\n",
    "        \n",
    "        R = Rψ(A, p, q);\n",
    "        Rs = Rs*R;\n",
    "        A = R'*A*R;\n",
    "        \n",
    "    end\n",
    "    return A, R\n",
    "end"
   ]
  },
  {
   "cell_type": "code",
   "execution_count": null,
   "metadata": {},
   "outputs": [],
   "source": [
    "k, index = findmax(A)"
   ]
  },
  {
   "cell_type": "code",
   "execution_count": 61,
   "metadata": {},
   "outputs": [
    {
     "data": {
      "text/plain": [
       "3×3 Array{Float64,2}:\n",
       "  0.785504      2.7494e-10   -2.09603e-12\n",
       "  2.7494e-10   -2.48134      -2.30447e-12\n",
       " -2.09618e-12  -2.30454e-12   7.69584"
      ]
     },
     "metadata": {},
     "output_type": "display_data"
    },
    {
     "data": {
      "text/plain": [
       "3×3 Array{Float64,2}:\n",
       "  0.507521  0.390908  -0.767862\n",
       " -0.73748   0.657927  -0.152499\n",
       "  0.445584  0.643679   0.622199"
      ]
     },
     "metadata": {},
     "output_type": "display_data"
    },
    {
     "data": {
      "text/plain": [
       "Eigen{Float64,Float64,Array{Float64,2},Array{Float64,1}}\n",
       "values:\n",
       "3-element Array{Float64,1}:\n",
       " -2.481342431981952\n",
       "  0.7855044319574702\n",
       "  7.695838000024497\n",
       "vectors:\n",
       "3×3 Array{Float64,2}:\n",
       "  0.507521   0.767862  -0.390908\n",
       " -0.73748    0.152499  -0.657927\n",
       "  0.445584  -0.622199  -0.643679"
      ]
     },
     "execution_count": 61,
     "metadata": {},
     "output_type": "execute_result"
    }
   ],
   "source": [
    "A = [1 3 1; 3 2 4; 1 4 3]\n",
    "Ad, R = ClassicalJacobi(A);\n",
    "display(Ad);\n",
    "display(R);\n",
    "eigen(A)"
   ]
  }
 ],
 "metadata": {
  "kernelspec": {
   "display_name": "Julia 1.5.3",
   "language": "julia",
   "name": "julia-1.5"
  },
  "language_info": {
   "file_extension": ".jl",
   "mimetype": "application/julia",
   "name": "julia",
   "version": "1.5.3"
  }
 },
 "nbformat": 4,
 "nbformat_minor": 4
}
