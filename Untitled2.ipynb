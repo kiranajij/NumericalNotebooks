{
 "cells": [
  {
   "cell_type": "markdown",
   "metadata": {},
   "source": [
    "# Virginity and Zorn's Lemma (JOKE)\n",
    "\n",
    "Let $X$ be set of all boys and girls of earth (excuding 3rd genders). Define a relation $\\leq$ on $X$ by\n",
    "$$\n",
    "x \\leq y \\quad\\text{ if and only if  $x$ lost his virginity by $y$}\n",
    "$$\n",
    "\n",
    "Now any chain $A$ be any chain of $X$ then the chain is of the form\n",
    "$$\n",
    "    x_1\\leq x_2 \\leq \\cdots \\leq x_n\n",
    "$$\n",
    "As there are finite number of people there is always a upper bound of a chain. So from `Zorn's Lemma` we conclude that that is a maximal element of $X$.\n",
    "\n",
    "That is there is one guy who has **taken virginity** of someone but no one has taken **his virginity**\n",
    "\n",
    "(LOL)"
   ]
  }
 ],
 "metadata": {
  "kernelspec": {
   "display_name": "Julia 1.5.3",
   "language": "julia",
   "name": "julia-1.5"
  },
  "language_info": {
   "file_extension": ".jl",
   "mimetype": "application/julia",
   "name": "julia",
   "version": "1.5.3"
  }
 },
 "nbformat": 4,
 "nbformat_minor": 4
}
