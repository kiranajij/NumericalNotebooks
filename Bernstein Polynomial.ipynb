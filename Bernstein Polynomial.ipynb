{
 "cells": [
  {
   "cell_type": "markdown",
   "metadata": {},
   "source": [
    "# Approximation in $\\infty$-norm \n",
    "\n",
    "## Weierstrass Approximation Theorem\n",
    "Suppose that $f$ is a real valued function, defined and continuous on a bounded closed interval $[a,b]$ of the real line; then, given any $\\epsilon > 0$ there exists a polynomial $p$ s.t.\n",
    "$$\n",
    "    \\left\\| f - p \\right\\|_{\\infty} < \\epsilon\n",
    "$$\n",
    "Also works for 2-norm"
   ]
  },
  {
   "cell_type": "markdown",
   "metadata": {},
   "source": [
    "## Bernstein Polynomial\n",
    "\n",
    "Bernstein polynomial is defined on $[0, 1]$. this can be extended to any interval by transforming variables. For $f$ in $[0, 1]$ we have\n",
    "\n",
    "$$\n",
    "    P_n(x) = \\sum_{k=0}^{n} p_{nk}(x)f(k/n),\\qquad x\\in [0, 1]\n",
    "$$\n",
    "Where **Bernstein Polynomials** are defined by\n",
    "\n",
    "$$\n",
    "    p_{nk} = {n\\choose k} x^k(1-x)^{n-k}\n",
    "$$"
   ]
  },
  {
   "cell_type": "markdown",
   "metadata": {},
   "source": [
    "## Approximation with fixed degree\n",
    "\n",
    "Let $n\\geq 0$ be fixed, then there the best approximation is $p\\in P_n$ s.t.\n",
    "$$\n",
    "    \\|f-p\\|_{\\infty} = \\inf_{q\\in P_n}\\|f-q\\|_{\\infty}\n",
    "$$\n",
    "\n",
    "There is a polynomaial that attens the inf, so it can be replaced with `min`"
   ]
  },
  {
   "cell_type": "code",
   "execution_count": null,
   "metadata": {},
   "outputs": [],
   "source": []
  }
 ],
 "metadata": {
  "kernelspec": {
   "display_name": "Julia 1.5.3",
   "language": "julia",
   "name": "julia-1.5"
  },
  "language_info": {
   "file_extension": ".jl",
   "mimetype": "application/julia",
   "name": "julia",
   "version": "1.5.3"
  }
 },
 "nbformat": 4,
 "nbformat_minor": 4
}
