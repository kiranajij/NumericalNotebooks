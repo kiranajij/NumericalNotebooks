{
 "cells": [
  {
   "cell_type": "markdown",
   "metadata": {
    "slideshow": {
     "slide_type": "slide"
    }
   },
   "source": [
    "## Number of Points\n",
    "\n",
    "if $n$ is even, then take $m=\\frac{n}{2}$, then we have\n",
    "\n",
    "\\begin{equation}\n",
    "    4(0+2+4+\\cdots+2m)+1\\\\\n",
    "    = 8(1+2+\\cdots+m)+1 \\\\\n",
    "    = 8\\frac{m(m-1)}{2}+1 \\\\\n",
    "    = 4m(m-1)+1\n",
    "\\end{equation}\n",
    "\n",
    "if however n is odd, then take $m=\\frac{m+1}{2}$, then we have\n",
    "\n",
    "\\begin{equation}\n",
    "    4(1+3+\\cdots+n) \\\\\n",
    "    = 4(1+3+5+\\cdots+\\frac{2m-1}{2})\\\\\n",
    "    = 4m^2\n",
    "\\end{equation}"
   ]
  },
  {
   "cell_type": "code",
   "execution_count": 1,
   "metadata": {
    "slideshow": {
     "slide_type": "subslide"
    }
   },
   "outputs": [],
   "source": [
    "points = []\n",
    "n = 5\n",
    "\n",
    "def ret_points_at_dist_n(n):\n",
    "    points = []\n",
    "    for x in range(1,5):\n",
    "        y = n-x\n",
    "        points.extend([(x, y), (-x, y), (x, -y), (-x, -y)])\n",
    "    points.extend([(0, n), (0, -n), (n, 0), (-n, 0)])\n",
    "    \n",
    "    return points"
   ]
  },
  {
   "cell_type": "code",
   "execution_count": 8,
   "metadata": {
    "slideshow": {
     "slide_type": "slide"
    }
   },
   "outputs": [
    {
     "data": {
      "image/png": "[encoded data removed]",
      "text/plain": [
       "<Figure size 432x288 with 1 Axes>"
      ]
     },
     "metadata": {},
     "output_type": "display_data"
    }
   ],
   "source": [
    "import numpy as np\n",
    "import matplotlib.pyplot as plt\n",
    "\n",
    "points = np.array(ret_points_at_dist_n(n))\n",
    "\n",
    "%matplotlib inline\n",
    "plt.plot(points[:, 0], points[:, 1], 'ko')\n",
    "plt.show()"
   ]
  },
  {
   "cell_type": "code",
   "execution_count": 46,
   "metadata": {},
   "outputs": [
    {
     "data": {
      "application/vnd.jupyter.widget-view+json": {
       "model_id": "029d85410f114c979b399320496b10a6",
       "version_major": 2,
       "version_minor": 0
      },
      "text/plain": [
       "SW50ZXJhY3RpdmUgZnVuY3Rpb24gPGZ1bmN0aW9uIHJvb3RfYWRkIGF0IDB4N2Y4ZDgyZmM1MDUwPiB3aXRoIDIgd2lkZ2V0cwogIGE6IFRyYW5zZm9ybUZsb2F0U2xpZGVyKHZhbHVlPTEuMCzigKY=\n"
      ]
     },
     "metadata": {},
     "output_type": "display_data"
    }
   ],
   "source": [
    "@interact\n",
    "def root_add(a=slider(vmin=-1., vmax=1., default=1.),\n",
    "         b = slider(vmin=-1., vmax=1., default=1.)):\n",
    "    \n",
    "    M = matrix(CDF, [[a, b], [b, a]])\n",
    "    v1 = M.eigenmatrix_right()[1][:, 0]\n",
    "    v2 = M.eigenmatrix_right()[1][:, 1]\n",
    "    eigs = arrow2d((0., 0.), (v1[0, 0], v1[1,0]), color='green', linestyle='--')\n",
    "    eigs = eigs + arrow2d((0., 0.), (v2[0,0], v2[1,0]), color='green', linestyle='--')\n",
    "    eigs = eigs+arrow2d((0, 0), (a, b), color='red')+arrow2d((0, 0), (b, a))\n",
    "    show(eigs)\n"
   ]
  },
  {
   "cell_type": "code",
   "execution_count": 51,
   "metadata": {},
   "outputs": [
    {
     "data": {
      "text/plain": [
       "0.7071067811865476"
      ]
     },
     "execution_count": 51,
     "metadata": {},
     "output_type": "execute_result"
    }
   ],
   "source": [
    "M = matrix(CDF, [[1, 2],[2,1]])\n",
    "M.eigenmatrix_right()[1][:, 1][1,0]"
   ]
  },
  {
   "cell_type": "markdown",
   "metadata": {},
   "source": [
    "#### Now what if the movement is constricted to only L or R\n",
    "\n",
    "First Let's build the `Decoder`\n",
    "\n",
    "Given, current position and direction to begin with, we calculate the direction by multiplying $i, -i$ according to the previous step and add it to accumulator."
   ]
  },
  {
   "cell_type": "code",
   "execution_count": 56,
   "metadata": {},
   "outputs": [],
   "source": [
    "def decode_path(path, start=0+0j, start_dir=1j):\n",
    "    \"\"\" Path is sequence of L and R \"\"\"\n",
    "    location  = start\n",
    "    prev_dir = start_dir\n",
    "    \n",
    "    for c in path:\n",
    "        if c == 'L':\n",
    "            new_dir = prev_dir * 1j\n",
    "        else:\n",
    "            new_dir = prev_dir * (-1j)\n",
    "        location += new_dir\n",
    "        prev_dir = new_dir\n",
    "    return location"
   ]
  },
  {
   "cell_type": "code",
   "execution_count": 59,
   "metadata": {},
   "outputs": [
    {
     "name": "stdout",
     "output_type": "stream",
     "text": [
      "2.00000000000000 - 2.00000000000000*I\n",
      "-2.00000000000000 - 2.00000000000000*I\n"
     ]
    }
   ],
   "source": [
    "print(decode_path('LRLR', start_dir=-1j))\n",
    "print(decode_path('RLRL', start_dir=-1j))\n"
   ]
  },
  {
   "cell_type": "code",
   "execution_count": 64,
   "metadata": {},
   "outputs": [
    {
     "data": {
      "image/png": "[encoded data removed]",
      "text/plain": [
       "Graphics object consisting of 1 graphics primitive"
      ]
     },
     "execution_count": 64,
     "metadata": {},
     "output_type": "execute_result"
    }
   ],
   "source": [
    "# Reachable points\n",
    "var('x y')\n",
    "region_plot(abs(abs(x)-abs(y))<=2, (x, -5, 5), (y, -5, 5), incol='green', alpha=0.3)"
   ]
  }
 ],
 "metadata": {
  "celltoolbar": "Slideshow",
  "kernelspec": {
   "display_name": "SageMath 8.1",
   "language": "",
   "name": "sagemath"
  },
  "language_info": {
   "codemirror_mode": {
    "name": "ipython",
    "version": 2
   },
   "file_extension": ".py",
   "mimetype": "text/x-python",
   "name": "python",
   "nbconvert_exporter": "python",
   "pygments_lexer": "ipython2",
   "version": "2.7.17"
  }
 },
 "nbformat": 4,
 "nbformat_minor": 2
}
