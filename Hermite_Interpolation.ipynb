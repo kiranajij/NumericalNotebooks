{
 "cells": [
  {
   "cell_type": "markdown",
   "metadata": {},
   "source": [
    "# Hermite Interpolation\n",
    "\n",
    "Unlike Lagrange's interpolation, Hermite interpolation is a polynomial s.t. even derivatives matches with the given data.\n",
    "\n",
    "given sampling points $x_0, x_1, x_2, \\cdots, x_n$ and points $y_0, y_1, y_2, \\cdots y_n$ and derivatives $z_0, z_1, z_2, \\cdots, z_n$, the Hermite polynomial $p_{2n+1}\\in P_{2n+1}(x)$ s.t.\n",
    "\n",
    "$$\n",
    "    p_{2n+1}(x_i)=y_i \\\\\n",
    "    p'_{2n+1}(x_i) = z_i \\quad\\text{for $i=0, 1, \\cdots, n$}\n",
    "$$"
   ]
  },
  {
   "cell_type": "markdown",
   "metadata": {},
   "source": [
    "We start with constructing auxiliary equation by\n",
    "\n",
    "$$\n",
    "    H_k(x) = [ L_k(x) ]^2 (1-2L'_k(x_k)(x-x_k))\\\\\n",
    "    K_k(x) = [ L_k(x) ]^2 (x-x_k)    \n",
    "$$"
   ]
  },
  {
   "cell_type": "code",
   "execution_count": 22,
   "metadata": {},
   "outputs": [
    {
     "data": {
      "text/plain": [
       "Lₖ (generic function with 1 method)"
      ]
     },
     "execution_count": 22,
     "metadata": {},
     "output_type": "execute_result"
    }
   ],
   "source": [
    "using SymPy;\n",
    "\n",
    "function Lₖ(X, k)\n",
    "    # Return the Lagrange's Auxiliary polynomial of order k given\n",
    "    # the sample points X\n",
    "    \n",
    "    n = size(X, 2);\n",
    "    k = k+1;  # because data points start from index 0 not 1.\n",
    "    Lₖ = 1;\n",
    "    @vars x\n",
    "    for i ∈ 1:n\n",
    "        if i == k\n",
    "            continue;\n",
    "        end\n",
    "        Lₖ *= (x-X[i])/(X[k]-X[i])\n",
    "    end\n",
    "    return Lₖ.expand()\n",
    "end"
   ]
  },
  {
   "cell_type": "code",
   "execution_count": 23,
   "metadata": {},
   "outputs": [
    {
     "data": {
      "text/latex": [
       "\\begin{equation*}\\frac{x^{2}}{2} - \\frac{x}{2}\\end{equation*}"
      ],
      "text/plain": [
       " 2    \n",
       "x    x\n",
       "── - ─\n",
       "2    2"
      ]
     },
     "execution_count": 23,
     "metadata": {},
     "output_type": "execute_result"
    }
   ],
   "source": [
    "Lₖ([-1 0 1], 0)"
   ]
  },
  {
   "cell_type": "code",
   "execution_count": 24,
   "metadata": {},
   "outputs": [
    {
     "data": {
      "text/latex": [
       "\\begin{equation*}\\left(1 - x\\right)^{2} \\left(2 x + 1\\right)\\end{equation*}"
      ],
      "text/plain": [
       "       2          \n",
       "(1 - x) ⋅(2⋅x + 1)"
      ]
     },
     "execution_count": 24,
     "metadata": {},
     "output_type": "execute_result"
    }
   ],
   "source": [
    "function Hₖ(X, k)\n",
    "    @vars x\n",
    "    L = Lₖ(X, k);\n",
    "    \n",
    "    k = k+1;\n",
    "    L_prime = diff(L, x)(X[k]);\n",
    "    \n",
    "    L^2*(1-2*L_prime*(x-X[k]))\n",
    "end\n",
    "\n",
    "Hₖ([0 1], 0)"
   ]
  },
  {
   "cell_type": "code",
   "execution_count": 25,
   "metadata": {},
   "outputs": [
    {
     "data": {
      "text/plain": [
       "Kₖ (generic function with 1 method)"
      ]
     },
     "execution_count": 25,
     "metadata": {},
     "output_type": "execute_result"
    }
   ],
   "source": [
    "function Kₖ(X, k)\n",
    "    @vars x\n",
    "    L = Lₖ(X, k);\n",
    "    k = k+1;\n",
    "    L^2*(x-X[k])\n",
    "end"
   ]
  },
  {
   "cell_type": "code",
   "execution_count": 26,
   "metadata": {},
   "outputs": [
    {
     "data": {
      "text/latex": [
       "\\begin{equation*}1 - x\\end{equation*}"
      ],
      "text/plain": [
       "1 - x"
      ]
     },
     "metadata": {},
     "output_type": "display_data"
    },
    {
     "data": {
      "text/latex": [
       "\\begin{equation*}x\\end{equation*}"
      ],
      "text/plain": [
       "x"
      ]
     },
     "metadata": {},
     "output_type": "display_data"
    },
    {
     "data": {
      "text/latex": [
       "\\begin{equation*}x^{2} \\left(3 - 2 x\\right)\\end{equation*}"
      ],
      "text/plain": [
       " 2          \n",
       "x ⋅(3 - 2⋅x)"
      ]
     },
     "metadata": {},
     "output_type": "display_data"
    },
    {
     "data": {
      "text/latex": [
       "\\begin{equation*}x \\left(1 - x\\right)^{2}\\end{equation*}"
      ],
      "text/plain": [
       "         2\n",
       "x⋅(1 - x) "
      ]
     },
     "metadata": {},
     "output_type": "display_data"
    }
   ],
   "source": [
    "using Printf;\n",
    "X = [0 1];\n",
    "display(Lₖ(X, 0))\n",
    "display(Lₖ(X, 1))\n",
    "display(Hₖ(X, 1))\n",
    "display(Kₖ(X, 0))"
   ]
  },
  {
   "cell_type": "code",
   "execution_count": 27,
   "metadata": {},
   "outputs": [
    {
     "data": {
      "text/plain": [
       "HermiteInterp (generic function with 1 method)"
      ]
     },
     "execution_count": 27,
     "metadata": {},
     "output_type": "execute_result"
    }
   ],
   "source": [
    "function HermiteInterp(X, Y, Z)\n",
    "    n = size(X, 2);\n",
    "    Poly = 0;\n",
    "    for i in 0:n-1\n",
    "        Poly += Hₖ(X, i)*Y[i+1] + Kₖ(X, i)*Z[i+1];\n",
    "    end\n",
    "    return Poly.expand();\n",
    "end"
   ]
  },
  {
   "cell_type": "code",
   "execution_count": 28,
   "metadata": {},
   "outputs": [
    {
     "data": {
      "text/latex": [
       "\\begin{equation*}- x^{3} + x^{2} + x\\end{equation*}"
      ],
      "text/plain": [
       "   3    2    \n",
       "- x  + x  + x"
      ]
     },
     "metadata": {},
     "output_type": "display_data"
    },
    {
     "data": {
      "application/vnd.plotly.v1+json": {
       "data": [
        {
         "colorbar": {
          "title": ""
         },
         "legendgroup": "y1",
         "line": {
          "color": "rgba(0, 154, 250, 1.000)",
          "dash": "solid",
          "shape": "linear",
          "width": 1
         },
         "mode": "lines",
         "name": "y1",
         "showlegend": true,
         "type": "scatter",
         "x": [
          -5,
          -4.975585452450529,
          -4.951170904901059,
          -4.926756357351589,
          -4.9023418098021185,
          -4.676594064430657,
          -4.450846319059195,
          -4.225098573687734,
          -3.9993508283162718,
          -3.7280208576300167,
          -3.456690886943761,
          -3.227284849893052,
          -2.997878812842343,
          -2.7486795562559143,
          -2.499480299669486,
          -2.2697406271616023,
          -2.0400009546537183,
          -1.5473905359351015,
          -0.9766530566146772,
          -0.46944893888978556,
          -0.024676634597799892,
          0.46024456655319457,
          0.9480477875281209,
          1.4873766262440427,
          2.0005344074484346,
          2.5340994351135055,
          2.983247536668451,
          3.257426998266046,
          3.531606459863641,
          3.789343240575363,
          4.047080021287085,
          4.253537176005464,
          4.459994330723842,
          4.66645148544222,
          4.872908640160599,
          4.904681480120449,
          4.9364543200802995,
          4.96822716004015,
          5
         ],
         "xaxis": "x",
         "y": [
          145,
          142.9587005751746,
          140.93638807787923,
          138.93297519141834,
          136.94837459909633,
          119.47353831946059,
          103.53059889895586,
          89.05052893765524,
          75.96430103563175,
          61.982672651184686,
          49.795024494487826,
          40.80144039885624,
          32.932166995760404,
          25.573491561443433,
          19.363179113092123,
          14.575055778649729,
          10.611278859000684,
          4.552125868007615,
          0.9087798195740344,
          -0.14560839285774935,
          -0.024052671804279696,
          0.5745782941906739,
          0.9947421559422653,
          0.4091585658805603,
          -2.00374228024827,
          -7.3173654621355535,
          -14.667191192094885,
          -20.695748582888847,
          -28.043207493829886,
          -36.26317719434842,
          -45.8606069968491,
          -54.611339608465556,
          -64.36465392669652,
          -75.17335081976913,
          -87.09023115591057,
          -89.02594738308446,
          -90.98935263239838,
          -92.98063935449079,
          -95
         ],
         "yaxis": "y",
         "zmax": null,
         "zmin": null
        }
       ],
       "layout": {
        "annotations": [],
        "height": 400,
        "legend": {
         "bgcolor": "rgba(255, 255, 255, 1.000)",
         "bordercolor": "rgba(0, 0, 0, 1.000)",
         "borderwidth": 1,
         "font": {
          "color": "rgba(0, 0, 0, 1.000)",
          "family": "sans-serif",
          "size": 11
         },
         "title": {
          "font": {
           "color": "rgba(0, 0, 0, 1.000)",
           "family": "sans-serif",
           "size": 15
          },
          "text": ""
         },
         "tracegroupgap": 0,
         "traceorder": "normal",
         "x": 1,
         "xanchor": "auto",
         "y": 1,
         "yanchor": "auto"
        },
        "margin": {
         "b": 20,
         "l": 0,
         "r": 0,
         "t": 20
        },
        "paper_bgcolor": "rgba(255, 255, 255, 1.000)",
        "plot_bgcolor": "rgba(255, 255, 255, 1.000)",
        "showlegend": true,
        "width": 600,
        "xaxis": {
         "anchor": "y",
         "domain": [
          0.0658209390492855,
          0.9934383202099738
         ],
         "gridcolor": "rgba(0, 0, 0, 0.100)",
         "gridwidth": 0.5,
         "linecolor": "rgba(0, 0, 0, 1.000)",
         "mirror": false,
         "range": [
          -5.3,
          5.3
         ],
         "showgrid": true,
         "showline": true,
         "showticklabels": true,
         "tickangle": 0,
         "tickcolor": "rgb(0, 0, 0)",
         "tickfont": {
          "color": "rgba(0, 0, 0, 1.000)",
          "family": "sans-serif",
          "size": 11
         },
         "tickmode": "array",
         "ticks": "inside",
         "ticktext": [
          "−4",
          "−2",
          "0",
          "2",
          "4"
         ],
         "tickvals": [
          -4,
          -2,
          0,
          2,
          4
         ],
         "title": "",
         "titlefont": {
          "color": "rgba(0, 0, 0, 1.000)",
          "family": "sans-serif",
          "size": 15
         },
         "type": "-",
         "visible": true,
         "zeroline": false,
         "zerolinecolor": "rgba(0, 0, 0, 1.000)"
        },
        "yaxis": {
         "anchor": "x",
         "domain": [
          0.03762029746281716,
          0.9901574803149606
         ],
         "gridcolor": "rgba(0, 0, 0, 0.100)",
         "gridwidth": 0.5,
         "linecolor": "rgba(0, 0, 0, 1.000)",
         "mirror": false,
         "range": [
          -102.2,
          152.2
         ],
         "showgrid": true,
         "showline": true,
         "showticklabels": true,
         "tickangle": 0,
         "tickcolor": "rgb(0, 0, 0)",
         "tickfont": {
          "color": "rgba(0, 0, 0, 1.000)",
          "family": "sans-serif",
          "size": 11
         },
         "tickmode": "array",
         "ticks": "inside",
         "ticktext": [
          "−100",
          "−50",
          "0",
          "50",
          "100",
          "150"
         ],
         "tickvals": [
          -100,
          -50,
          0,
          50,
          100,
          150
         ],
         "title": "",
         "titlefont": {
          "color": "rgba(0, 0, 0, 1.000)",
          "family": "sans-serif",
          "size": 15
         },
         "type": "-",
         "visible": true,
         "zeroline": false,
         "zerolinecolor": "rgba(0, 0, 0, 1.000)"
        }
       }
      },
      "text/html": [
       "<!DOCTYPE html>\n",
       "<html>\n",
       "    <head>\n",
       "        <title>Plots.jl</title>\n",
       "        <meta http-equiv=\"content-type\" content=\"text/html; charset=UTF-8\">\n",
       "        <script src=\"https://cdn.plot.ly/plotly-1.57.1.min.js\"></script>\n",
       "    </head>\n",
       "    <body>\n",
       "            <div id=\"7473e538-ce5c-429e-ae72-d9f91ed23950\" style=\"width:600px;height:400px;\"></div>\n",
       "    <script>\n",
       "    PLOT = document.getElementById('7473e538-ce5c-429e-ae72-d9f91ed23950');\n",
       "    Plotly.plot(PLOT, [\n",
       "    {\n",
       "        \"xaxis\": \"x\",\n",
       "        \"colorbar\": {\n",
       "            \"title\": \"\"\n",
       "        },\n",
       "        \"yaxis\": \"y\",\n",
       "        \"x\": [\n",
       "            -5.0,\n",
       "            -4.975585452450529,\n",
       "            -4.951170904901059,\n",
       "            -4.926756357351589,\n",
       "            -4.9023418098021185,\n",
       "            -4.676594064430657,\n",
       "            -4.450846319059195,\n",
       "            -4.225098573687734,\n",
       "            -3.9993508283162718,\n",
       "            -3.7280208576300167,\n",
       "            -3.456690886943761,\n",
       "            -3.227284849893052,\n",
       "            -2.997878812842343,\n",
       "            -2.7486795562559143,\n",
       "            -2.499480299669486,\n",
       "            -2.2697406271616023,\n",
       "            -2.0400009546537183,\n",
       "            -1.5473905359351015,\n",
       "            -0.9766530566146772,\n",
       "            -0.46944893888978556,\n",
       "            -0.024676634597799892,\n",
       "            0.46024456655319457,\n",
       "            0.9480477875281209,\n",
       "            1.4873766262440427,\n",
       "            2.0005344074484346,\n",
       "            2.5340994351135055,\n",
       "            2.983247536668451,\n",
       "            3.257426998266046,\n",
       "            3.531606459863641,\n",
       "            3.789343240575363,\n",
       "            4.047080021287085,\n",
       "            4.253537176005464,\n",
       "            4.459994330723842,\n",
       "            4.66645148544222,\n",
       "            4.872908640160599,\n",
       "            4.904681480120449,\n",
       "            4.9364543200802995,\n",
       "            4.96822716004015,\n",
       "            5.0\n",
       "        ],\n",
       "        \"showlegend\": true,\n",
       "        \"mode\": \"lines\",\n",
       "        \"name\": \"y1\",\n",
       "        \"zmin\": null,\n",
       "        \"legendgroup\": \"y1\",\n",
       "        \"zmax\": null,\n",
       "        \"line\": {\n",
       "            \"color\": \"rgba(0, 154, 250, 1.000)\",\n",
       "            \"shape\": \"linear\",\n",
       "            \"dash\": \"solid\",\n",
       "            \"width\": 1\n",
       "        },\n",
       "        \"y\": [\n",
       "            145.0,\n",
       "            142.9587005751746,\n",
       "            140.93638807787923,\n",
       "            138.93297519141834,\n",
       "            136.94837459909633,\n",
       "            119.47353831946059,\n",
       "            103.53059889895586,\n",
       "            89.05052893765524,\n",
       "            75.96430103563175,\n",
       "            61.982672651184686,\n",
       "            49.795024494487826,\n",
       "            40.80144039885624,\n",
       "            32.932166995760404,\n",
       "            25.573491561443433,\n",
       "            19.363179113092123,\n",
       "            14.575055778649729,\n",
       "            10.611278859000684,\n",
       "            4.552125868007615,\n",
       "            0.9087798195740344,\n",
       "            -0.14560839285774935,\n",
       "            -0.024052671804279696,\n",
       "            0.5745782941906739,\n",
       "            0.9947421559422653,\n",
       "            0.4091585658805603,\n",
       "            -2.00374228024827,\n",
       "            -7.3173654621355535,\n",
       "            -14.667191192094885,\n",
       "            -20.695748582888847,\n",
       "            -28.043207493829886,\n",
       "            -36.26317719434842,\n",
       "            -45.8606069968491,\n",
       "            -54.611339608465556,\n",
       "            -64.36465392669652,\n",
       "            -75.17335081976913,\n",
       "            -87.09023115591057,\n",
       "            -89.02594738308446,\n",
       "            -90.98935263239838,\n",
       "            -92.98063935449079,\n",
       "            -95.0\n",
       "        ],\n",
       "        \"type\": \"scatter\"\n",
       "    }\n",
       "]\n",
       ", {\n",
       "    \"showlegend\": true,\n",
       "    \"xaxis\": {\n",
       "        \"showticklabels\": true,\n",
       "        \"gridwidth\": 0.5,\n",
       "        \"tickvals\": [\n",
       "            -4.0,\n",
       "            -2.0,\n",
       "            0.0,\n",
       "            2.0,\n",
       "            4.0\n",
       "        ],\n",
       "        \"visible\": true,\n",
       "        \"ticks\": \"inside\",\n",
       "        \"range\": [\n",
       "            -5.3,\n",
       "            5.3\n",
       "        ],\n",
       "        \"domain\": [\n",
       "            0.0658209390492855,\n",
       "            0.9934383202099738\n",
       "        ],\n",
       "        \"tickmode\": \"array\",\n",
       "        \"linecolor\": \"rgba(0, 0, 0, 1.000)\",\n",
       "        \"showgrid\": true,\n",
       "        \"title\": \"\",\n",
       "        \"mirror\": false,\n",
       "        \"tickangle\": 0,\n",
       "        \"showline\": true,\n",
       "        \"gridcolor\": \"rgba(0, 0, 0, 0.100)\",\n",
       "        \"titlefont\": {\n",
       "            \"color\": \"rgba(0, 0, 0, 1.000)\",\n",
       "            \"family\": \"sans-serif\",\n",
       "            \"size\": 15\n",
       "        },\n",
       "        \"tickcolor\": \"rgb(0, 0, 0)\",\n",
       "        \"ticktext\": [\n",
       "            \"−4\",\n",
       "            \"−2\",\n",
       "            \"0\",\n",
       "            \"2\",\n",
       "            \"4\"\n",
       "        ],\n",
       "        \"zeroline\": false,\n",
       "        \"type\": \"-\",\n",
       "        \"tickfont\": {\n",
       "            \"color\": \"rgba(0, 0, 0, 1.000)\",\n",
       "            \"family\": \"sans-serif\",\n",
       "            \"size\": 11\n",
       "        },\n",
       "        \"zerolinecolor\": \"rgba(0, 0, 0, 1.000)\",\n",
       "        \"anchor\": \"y\"\n",
       "    },\n",
       "    \"paper_bgcolor\": \"rgba(255, 255, 255, 1.000)\",\n",
       "    \"annotations\": [],\n",
       "    \"height\": 400,\n",
       "    \"margin\": {\n",
       "        \"l\": 0,\n",
       "        \"b\": 20,\n",
       "        \"r\": 0,\n",
       "        \"t\": 20\n",
       "    },\n",
       "    \"plot_bgcolor\": \"rgba(255, 255, 255, 1.000)\",\n",
       "    \"yaxis\": {\n",
       "        \"showticklabels\": true,\n",
       "        \"gridwidth\": 0.5,\n",
       "        \"tickvals\": [\n",
       "            -100.0,\n",
       "            -50.0,\n",
       "            0.0,\n",
       "            50.0,\n",
       "            100.0,\n",
       "            150.0\n",
       "        ],\n",
       "        \"visible\": true,\n",
       "        \"ticks\": \"inside\",\n",
       "        \"range\": [\n",
       "            -102.2,\n",
       "            152.2\n",
       "        ],\n",
       "        \"domain\": [\n",
       "            0.03762029746281716,\n",
       "            0.9901574803149606\n",
       "        ],\n",
       "        \"tickmode\": \"array\",\n",
       "        \"linecolor\": \"rgba(0, 0, 0, 1.000)\",\n",
       "        \"showgrid\": true,\n",
       "        \"title\": \"\",\n",
       "        \"mirror\": false,\n",
       "        \"tickangle\": 0,\n",
       "        \"showline\": true,\n",
       "        \"gridcolor\": \"rgba(0, 0, 0, 0.100)\",\n",
       "        \"titlefont\": {\n",
       "            \"color\": \"rgba(0, 0, 0, 1.000)\",\n",
       "            \"family\": \"sans-serif\",\n",
       "            \"size\": 15\n",
       "        },\n",
       "        \"tickcolor\": \"rgb(0, 0, 0)\",\n",
       "        \"ticktext\": [\n",
       "            \"−100\",\n",
       "            \"−50\",\n",
       "            \"0\",\n",
       "            \"50\",\n",
       "            \"100\",\n",
       "            \"150\"\n",
       "        ],\n",
       "        \"zeroline\": false,\n",
       "        \"type\": \"-\",\n",
       "        \"tickfont\": {\n",
       "            \"color\": \"rgba(0, 0, 0, 1.000)\",\n",
       "            \"family\": \"sans-serif\",\n",
       "            \"size\": 11\n",
       "        },\n",
       "        \"zerolinecolor\": \"rgba(0, 0, 0, 1.000)\",\n",
       "        \"anchor\": \"x\"\n",
       "    },\n",
       "    \"legend\": {\n",
       "        \"borderwidth\": 1,\n",
       "        \"tracegroupgap\": 0,\n",
       "        \"font\": {\n",
       "            \"color\": \"rgba(0, 0, 0, 1.000)\",\n",
       "            \"family\": \"sans-serif\",\n",
       "            \"size\": 11\n",
       "        },\n",
       "        \"title\": {\n",
       "            \"font\": {\n",
       "                \"color\": \"rgba(0, 0, 0, 1.000)\",\n",
       "                \"family\": \"sans-serif\",\n",
       "                \"size\": 15\n",
       "            },\n",
       "            \"text\": \"\"\n",
       "        },\n",
       "        \"traceorder\": \"normal\",\n",
       "        \"x\": 1.0,\n",
       "        \"yanchor\": \"auto\",\n",
       "        \"xanchor\": \"auto\",\n",
       "        \"bordercolor\": \"rgba(0, 0, 0, 1.000)\",\n",
       "        \"bgcolor\": \"rgba(255, 255, 255, 1.000)\",\n",
       "        \"y\": 1.0\n",
       "    },\n",
       "    \"width\": 600\n",
       "}\n",
       ");\n",
       "    </script>\n",
       "\n",
       "    </body>\n",
       "</html>\n"
      ]
     },
     "execution_count": 28,
     "metadata": {},
     "output_type": "execute_result"
    }
   ],
   "source": [
    "X = [0 1];\n",
    "Y = [0 1];\n",
    "Z = [1 0];\n",
    "\n",
    "P = HermiteInterp(X, Y, Z);\n",
    "display(P);\n",
    "\n",
    "using Plots; plotly();\n",
    "plot(P)"
   ]
  }
 ],
 "metadata": {
  "kernelspec": {
   "display_name": "Julia 1.5.3",
   "language": "julia",
   "name": "julia-1.5"
  },
  "language_info": {
   "file_extension": ".jl",
   "mimetype": "application/julia",
   "name": "julia",
   "version": "1.5.3"
  }
 },
 "nbformat": 4,
 "nbformat_minor": 4
}
