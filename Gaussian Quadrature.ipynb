{
 "cells": [
  {
   "cell_type": "code",
   "execution_count": 47,
   "metadata": {},
   "outputs": [
    {
     "data": {
      "text/html": [
       "<html><script type=\"math/tex; mode=display\">\\newcommand{\\Bold}[1]{\\mathbf{#1}}1</script></html>"
      ],
      "text/plain": [
       "1"
      ]
     },
     "metadata": {},
     "output_type": "display_data"
    },
    {
     "data": {
      "text/html": [
       "<html><script type=\"math/tex; mode=display\">\\newcommand{\\Bold}[1]{\\mathbf{#1}}x</script></html>"
      ],
      "text/plain": [
       "x"
      ]
     },
     "metadata": {},
     "output_type": "display_data"
    },
    {
     "data": {
      "text/html": [
       "<html><script type=\"math/tex; mode=display\">\\newcommand{\\Bold}[1]{\\mathbf{#1}}x^{2} - \\frac{1}{3}</script></html>"
      ],
      "text/plain": [
       "x^2 - 1/3"
      ]
     },
     "metadata": {},
     "output_type": "display_data"
    },
    {
     "data": {
      "text/html": [
       "<html><script type=\"math/tex; mode=display\">\\newcommand{\\Bold}[1]{\\mathbf{#1}}x^{3} - \\frac{3}{5} \\, x</script></html>"
      ],
      "text/plain": [
       "x^3 - 3/5*x"
      ]
     },
     "metadata": {},
     "output_type": "display_data"
    },
    {
     "data": {
      "text/html": [
       "<html><script type=\"math/tex; mode=display\">\\newcommand{\\Bold}[1]{\\mathbf{#1}}x^{4} - \\frac{6}{7} \\, x^{2} + \\frac{3}{35}</script></html>"
      ],
      "text/plain": [
       "x^4 - 6/7*x^2 + 3/35"
      ]
     },
     "metadata": {},
     "output_type": "display_data"
    },
    {
     "data": {
      "text/html": [
       "<html><script type=\"math/tex; mode=display\">\\newcommand{\\Bold}[1]{\\mathbf{#1}}x^{5} - \\frac{10}{9} \\, x^{3} + \\frac{5}{21} \\, x</script></html>"
      ],
      "text/plain": [
       "x^5 - 10/9*x^3 + 5/21*x"
      ]
     },
     "metadata": {},
     "output_type": "display_data"
    },
    {
     "data": {
      "text/plain": [
       "[None, None, None, None, None, None]"
      ]
     },
     "execution_count": 47,
     "metadata": {},
     "output_type": "execute_result"
    }
   ],
   "source": [
    "def orthonormal_polys(n, a, b, wei=1):\n",
    "    V = [x^i for i in range(n+1)]\n",
    "    W = [x^0]\n",
    "    for i in range(1, n+1):\n",
    "        w = V[i]\n",
    "        for j in range(i):\n",
    "            c = integrate(wei*V[i]*W[j], x, a, b)/integrate(wei*W[j]*W[j], x, a, b)\n",
    "            w -= c*W[j]\n",
    "        W.append(w.expand())\n",
    "    return W\n",
    "[show(f) for f in  orthonormal_polys(5, -1, 1)]"
   ]
  },
  {
   "cell_type": "code",
   "execution_count": 32,
   "metadata": {},
   "outputs": [
    {
     "data": {
      "text/html": [
       "<html><script type=\"math/tex; mode=display\">\\newcommand{\\Bold}[1]{\\mathbf{#1}}\\left[x = -\\frac{1}{6} \\, \\sqrt{3} + \\frac{1}{2}, x = \\frac{1}{6} \\, \\sqrt{3} + \\frac{1}{2}\\right]</script></html>"
      ],
      "text/plain": [
       "[x == -1/6*sqrt(3) + 1/2, x == 1/6*sqrt(3) + 1/2]"
      ]
     },
     "metadata": {},
     "output_type": "display_data"
    }
   ],
   "source": [
    "show(phi2.solve(x))"
   ]
  },
  {
   "cell_type": "markdown",
   "metadata": {},
   "source": [
    "## Gaussian Quadrature for $w(x)\\equiv 1$ in $(0, 1)$"
   ]
  },
  {
   "cell_type": "code",
   "execution_count": 17,
   "metadata": {},
   "outputs": [
    {
     "data": {
      "text/html": [
       "<html><script type=\"math/tex; mode=display\">\\newcommand{\\Bold}[1]{\\mathbf{#1}}-\\frac{19}{4}</script></html>"
      ],
      "text/plain": [
       "-19/4"
      ]
     },
     "metadata": {},
     "output_type": "display_data"
    },
    {
     "data": {
      "text/html": [
       "<html><script type=\"math/tex; mode=display\">\\newcommand{\\Bold}[1]{\\mathbf{#1}}-\\frac{19}{4}</script></html>"
      ],
      "text/plain": [
       "-19/4"
      ]
     },
     "metadata": {},
     "output_type": "display_data"
    }
   ],
   "source": [
    "zeros = [\n",
    "    1/2 - sqrt(1/12),\n",
    "    1/2 + sqrt(1/12)\n",
    "]\n",
    "\n",
    "f(x)=x^3-5  # sample function\n",
    "f0, f1 = f(zeros[0]), f(zeros[1])\n",
    "\n",
    "ans = (f0+f1)/2\n",
    "show(ans.expand())\n",
    "\n",
    "show(integrate(f, x, 0, 1))"
   ]
  },
  {
   "cell_type": "code",
   "execution_count": 93,
   "metadata": {},
   "outputs": [
    {
     "data": {
      "text/html": [
       "<html><script type=\"math/tex; mode=display\">\\newcommand{\\Bold}[1]{\\mathbf{#1}}0.596449704142012</script></html>"
      ],
      "text/plain": [
       "0.596449704142012"
      ]
     },
     "metadata": {},
     "output_type": "display_data"
    }
   ],
   "source": [
    "var('t')\n",
    "f(x) = 1/(1+x^2)\n",
    "g(t) = (1-t/(1-t+t^2))/(1-t^2)^2\n",
    "\n",
    "f0, f1 = g(zeros[0]), g(zeros[1])\n",
    "ans = (f0+f1)/2\n",
    "show(N(ans))"
   ]
  },
  {
   "cell_type": "code",
   "execution_count": 91,
   "metadata": {},
   "outputs": [
    {
     "data": {
      "text/plain": [
       "1.57079632679490"
      ]
     },
     "execution_count": 91,
     "metadata": {},
     "output_type": "execute_result"
    }
   ],
   "source": [
    "N(pi/2)"
   ]
  },
  {
   "cell_type": "code",
   "execution_count": 90,
   "metadata": {},
   "outputs": [
    {
     "data": {
      "text/html": [
       "<html><script type=\"math/tex; mode=display\">\\newcommand{\\Bold}[1]{\\mathbf{#1}}\\left[0.04691007703, 0.2307653449, 0.5000000000, 0.7692346551, 0.9530899230\\right]</script></html>"
      ],
      "text/plain": [
       "[0.04691007703, 0.2307653449, 0.5000000000, 0.7692346551, 0.9530899230]"
      ]
     },
     "metadata": {},
     "output_type": "display_data"
    },
    {
     "data": {
      "text/html": [
       "<html><script type=\"math/tex; mode=display\">\\newcommand{\\Bold}[1]{\\mathbf{#1}}\\left[0.1184634425, 0.2393143352, 0.2844444444, 0.2393143353, 0.1184634425\\right]</script></html>"
      ],
      "text/plain": [
       "[0.1184634425, 0.2393143352, 0.2844444444, 0.2393143353, 0.1184634425]"
      ]
     },
     "metadata": {},
     "output_type": "display_data"
    },
    {
     "data": {
      "text/html": [
       "<html><script type=\"math/tex; mode=display\">\\newcommand{\\Bold}[1]{\\mathbf{#1}}0.5992495175</script></html>"
      ],
      "text/plain": [
       "0.5992495175"
      ]
     },
     "metadata": {},
     "output_type": "display_data"
    }
   ],
   "source": [
    "# Lets try for 5 points\n",
    "n = 5\n",
    "a = 0\n",
    "b = 1\n",
    "phin = orthonormal_polys(n, a, b)[-1]\n",
    "roots = [eq.rhs().n(digits=10) for eq in solve(phin==0, x)]\n",
    "# map(lambda x: N(show(x.rhs())), solve(phi5==0, x))\n",
    "roots.sort()\n",
    "weights = []\n",
    "for i in range(n):\n",
    "    Li = 1\n",
    "    for j in range(n):\n",
    "        if i==j: continue\n",
    "        Li *= (x-roots[j])/(roots[i]-roots[j])\n",
    "    weights.append(integrate(Li^2, x, a, b).n(digits=10))\n",
    "\n",
    "show(roots)\n",
    "show(weights)\n",
    "\n",
    "ans = sum( w*g(t=xi) for w, xi in zip(weights, roots) )\n",
    "show(ans)"
   ]
  }
 ],
 "metadata": {
  "kernelspec": {
   "display_name": "SageMath 8.1",
   "language": "",
   "name": "sagemath"
  },
  "language_info": {
   "codemirror_mode": {
    "name": "ipython",
    "version": 2
   },
   "file_extension": ".py",
   "mimetype": "text/x-python",
   "name": "python",
   "nbconvert_exporter": "python",
   "pygments_lexer": "ipython2",
   "version": "2.7.17"
  }
 },
 "nbformat": 4,
 "nbformat_minor": 2
}
