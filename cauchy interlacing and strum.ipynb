{
 "cells": [
  {
   "cell_type": "markdown",
   "metadata": {},
   "source": [
    "# Cauchy Interlacing Theorem and Strum Sequence Property"
   ]
  },
  {
   "cell_type": "code",
   "execution_count": 6,
   "metadata": {},
   "outputs": [
    {
     "name": "stderr",
     "output_type": "stream",
     "text": [
      "┌ Info: Precompiling SymPy [24249f21-da20-56a4-8eb1-6a02cf4ae2e6]\n",
      "└ @ Base loading.jl:1278\n"
     ]
    },
    {
     "data": {
      "text/plain": [
       "(x, y)"
      ]
     },
     "execution_count": 6,
     "metadata": {},
     "output_type": "execute_result"
    }
   ],
   "source": [
    "using LinearAlgebra;\n",
    "using SymPy;\n",
    "@vars x y"
   ]
  },
  {
   "cell_type": "code",
   "execution_count": 12,
   "metadata": {},
   "outputs": [
    {
     "data": {
      "text/plain": [
       "5×5 Array{Int64,2}:\n",
       " 20   2  11  20  11\n",
       "  2   2   2   2  11\n",
       " 11   2  20  11   2\n",
       " 20   2  11  20  11\n",
       " 11  11   2  11  20"
      ]
     },
     "execution_count": 12,
     "metadata": {},
     "output_type": "execute_result"
    }
   ],
   "source": [
    "M = rand((1, 10), (5, 5))\n",
    "M = M+M'"
   ]
  },
  {
   "cell_type": "code",
   "execution_count": 45,
   "metadata": {},
   "outputs": [
    {
     "data": {
      "text/plain": [
       "5×5 SymTridiagonal{Int64,Array{Int64,1}}:\n",
       " 20  2   ⋅   ⋅   ⋅\n",
       "  2  2   2   ⋅   ⋅\n",
       "  ⋅  2  20  11   ⋅\n",
       "  ⋅  ⋅  11  20  11\n",
       "  ⋅  ⋅   ⋅  11  20"
      ]
     },
     "metadata": {},
     "output_type": "display_data"
    }
   ],
   "source": [
    "A = SymTridiagonal(M)\n",
    "display(A)"
   ]
  },
  {
   "cell_type": "code",
   "execution_count": 37,
   "metadata": {},
   "outputs": [
    {
     "data": {
      "text/latex": [
       "\\begin{equation*}- x^{3} + 42 x^{2} - 472 x + 640\\end{equation*}"
      ],
      "text/plain": [
       "   3       2              \n",
       "- x  + 42⋅x  - 472⋅x + 640"
      ]
     },
     "execution_count": 37,
     "metadata": {},
     "output_type": "execute_result"
    }
   ],
   "source": [
    "function Pᵢ(A, r)\n",
    "    # Return the r'th principal minor of A-xI\n",
    "    if r==0\n",
    "        return Sym(1)\n",
    "    end\n",
    "    x = symbols(\"x\", real=true)\n",
    "    B = A[1:r, 1:r]\n",
    "    det(B-x*Matrix(I, r, r))\n",
    "end\n",
    "\n",
    "Pᵢ(A, 3)"
   ]
  },
  {
   "cell_type": "code",
   "execution_count": 31,
   "metadata": {},
   "outputs": [
    {
     "data": {
      "text/plain": [
       "1"
      ]
     },
     "metadata": {},
     "output_type": "display_data"
    },
    {
     "data": {
      "text/latex": [
       "\\begin{equation*}20 - x\\end{equation*}"
      ],
      "text/plain": [
       "20 - x"
      ]
     },
     "metadata": {},
     "output_type": "display_data"
    },
    {
     "data": {
      "text/latex": [
       "\\begin{equation*}x^{2} - 22 x + 36\\end{equation*}"
      ],
      "text/plain": [
       " 2            \n",
       "x  - 22⋅x + 36"
      ]
     },
     "metadata": {},
     "output_type": "display_data"
    },
    {
     "data": {
      "text/latex": [
       "\\begin{equation*}- x^{3} + 42 x^{2} - 472 x + 640\\end{equation*}"
      ],
      "text/plain": [
       "   3       2              \n",
       "- x  + 42⋅x  - 472⋅x + 640"
      ]
     },
     "metadata": {},
     "output_type": "display_data"
    },
    {
     "data": {
      "text/latex": [
       "\\begin{equation*}x^{4} - 62 x^{3} + 1191 x^{2} - 7418 x + 8444\\end{equation*}"
      ],
      "text/plain": [
       " 4       3         2                \n",
       "x  - 62⋅x  + 1191⋅x  - 7418⋅x + 8444"
      ]
     },
     "metadata": {},
     "output_type": "display_data"
    },
    {
     "data": {
      "text/latex": [
       "\\begin{equation*}- x^{5} + 82 x^{4} - 2310 x^{3} + 26156 x^{2} - 99692 x + 91440\\end{equation*}"
      ],
      "text/plain": [
       "   5       4         3          2                  \n",
       "- x  + 82⋅x  - 2310⋅x  + 26156⋅x  - 99692⋅x + 91440"
      ]
     },
     "metadata": {},
     "output_type": "display_data"
    }
   ],
   "source": [
    "for i ∈ 0:5\n",
    "    display(Pᵢ(A, i));\n",
    "end"
   ]
  },
  {
   "cell_type": "code",
   "execution_count": 44,
   "metadata": {},
   "outputs": [
    {
     "data": {
      "text/latex": [
       "\\begin{equation*}1\\end{equation*}"
      ],
      "text/plain": [
       "1"
      ]
     },
     "metadata": {},
     "output_type": "display_data"
    },
    {
     "data": {
      "text/latex": [
       "\\begin{equation*}-16\\end{equation*}"
      ],
      "text/plain": [
       "-16"
      ]
     },
     "metadata": {},
     "output_type": "display_data"
    },
    {
     "data": {
      "text/latex": [
       "\\begin{equation*}540\\end{equation*}"
      ],
      "text/plain": [
       "540"
      ]
     },
     "metadata": {},
     "output_type": "display_data"
    },
    {
     "data": {
      "text/latex": [
       "\\begin{equation*}-8576\\end{equation*}"
      ],
      "text/plain": [
       "-8576"
      ]
     },
     "metadata": {},
     "output_type": "display_data"
    },
    {
     "data": {
      "text/latex": [
       "\\begin{equation*}71876\\end{equation*}"
      ],
      "text/plain": [
       "71876"
      ]
     },
     "metadata": {},
     "output_type": "display_data"
    },
    {
     "data": {
      "text/latex": [
       "\\begin{equation*}-112320\\end{equation*}"
      ],
      "text/plain": [
       "-112320"
      ]
     },
     "metadata": {},
     "output_type": "display_data"
    }
   ],
   "source": [
    "for i ∈ 0:5\n",
    "    display(Pᵢ(A, i)(36))\n",
    "end"
   ]
  },
  {
   "cell_type": "code",
   "execution_count": 41,
   "metadata": {},
   "outputs": [
    {
     "data": {
      "text/plain": [
       "5-element Array{Float64,1}:\n",
       "  1.328434808601833\n",
       "  4.7577362073592475\n",
       " 19.999999999999986\n",
       " 20.327331563959003\n",
       " 35.58649742007987"
      ]
     },
     "execution_count": 41,
     "metadata": {},
     "output_type": "execute_result"
    }
   ],
   "source": [
    "E, D = eigen(A)\n",
    "E"
   ]
  },
  {
   "cell_type": "code",
   "execution_count": 51,
   "metadata": {},
   "outputs": [
    {
     "name": "stderr",
     "output_type": "stream",
     "text": [
      "┌ Info: Precompiling Plots [91a5bcdd-55d7-5caf-9e0b-520d859cae80]\n",
      "└ @ Base loading.jl:1278\n",
      "┌ Info: For saving to png with the Plotly backend PlotlyBase has to be installed.\n",
      "└ @ Plots /home/kiran/.julia/packages/Plots/vsE7b/src/backends.jl:372\n"
     ]
    },
    {
     "data": {
      "text/plain": [
       "Plots.PlotlyBackend()"
      ]
     },
     "execution_count": 51,
     "metadata": {},
     "output_type": "execute_result"
    }
   ],
   "source": [
    "using Plots;\n",
    "plotly()"
   ]
  }
 ],
 "metadata": {
  "kernelspec": {
   "display_name": "Julia 1.5.3",
   "language": "julia",
   "name": "julia-1.5"
  },
  "language_info": {
   "file_extension": ".jl",
   "mimetype": "application/julia",
   "name": "julia",
   "version": "1.5.3"
  }
 },
 "nbformat": 4,
 "nbformat_minor": 4
}
