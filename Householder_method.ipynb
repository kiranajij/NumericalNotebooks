{
 "cells": [
  {
   "cell_type": "markdown",
   "metadata": {},
   "source": [
    "# Householder Matrix\n",
    "\n",
    "A householder matrix for a given $v\\in\\mathbb{R}^n$ is\n",
    "$$\n",
    "    H_v = I - 2\\frac{vv^T}{v^Tv}\n",
    "$$\n",
    "\n",
    "**Theorem** Given any vector $x\\in\\mathbb{R}^n$, there is a vector $v\\in\\mathbb{R}^n$ s.t.\n",
    "$$\n",
    "    H_v(x) = x-2\\frac{vv^Tx}{v^Tv} = (\\lambda, 0, \\cdots, 0)\n",
    "$$\n",
    "i.e. all but first coordinate is non zero\n",
    "\n",
    "---\n",
    "\n",
    "Now given a matrix\n",
    "$$\\left(\n",
    "    \\begin{matrix}\n",
    "    \\alpha & b^T \\\\\n",
    "    b & C\n",
    "    \\end{matrix}\\right)\n",
    "$$\n",
    "\n",
    "We can calculate a $H_{n,n-1}$ s.t. $Hb\\in\\varepsilon ^{n-1}_1$\n",
    "Now we continue recursively"
   ]
  },
  {
   "cell_type": "code",
   "execution_count": 3,
   "metadata": {},
   "outputs": [
    {
     "data": {
      "text/plain": [
       "Hᵥ (generic function with 1 method)"
      ]
     },
     "execution_count": 3,
     "metadata": {},
     "output_type": "execute_result"
    }
   ],
   "source": [
    "using LinearAlgebra;\n",
    "function Hᵥ(v)\n",
    "    n = size(v, 1);\n",
    "    I -2(v*v')/(v'v)\n",
    "end"
   ]
  },
  {
   "cell_type": "code",
   "execution_count": 4,
   "metadata": {},
   "outputs": [
    {
     "data": {
      "text/plain": [
       "Hxe (generic function with 1 method)"
      ]
     },
     "execution_count": 4,
     "metadata": {},
     "output_type": "execute_result"
    }
   ],
   "source": [
    "function Hxe(x, e)\n",
    "    β = e'x;\n",
    "    if β == 0\n",
    "        c = √(x'x)\n",
    "    else\n",
    "        c = sign(β)*√(x'x)\n",
    "    end\n",
    "    \n",
    "    return Hᵥ(x+c*e)\n",
    "end"
   ]
  },
  {
   "cell_type": "code",
   "execution_count": 11,
   "metadata": {},
   "outputs": [
    {
     "data": {
      "text/plain": [
       "householder_tridiagonlize (generic function with 1 method)"
      ]
     },
     "execution_count": 11,
     "metadata": {},
     "output_type": "execute_result"
    }
   ],
   "source": [
    "function householder_tridiagonlize(A)\n",
    "    # We have taken the matrix to be of the form\n",
    "    # [α bᵀ]\n",
    "    # [b C ]\n",
    "    \n",
    "    # Defining the algorithm recursively\n",
    "    n = size(A, 1);   # Size of the matrix\n",
    "    if n==2\n",
    "        # if n is 2, then matrix is already tridiagonalized\n",
    "        return A, 1. .*Array(I, 2, 2);\n",
    "    end\n",
    "    \n",
    "    # work with first one\n",
    "    b = A[2:end, 1];   # Vector b\n",
    "    e = zeros(size(b)); e[1, 1] = 1;\n",
    "    C = A[2:end, 2:end];\n",
    "    \n",
    "    # Gives us the Householder matrix to multiply\n",
    "    Hn_1 = Hxe(b, e);\n",
    "    D    = Hn_1'*C*Hn_1;\n",
    "    d    = Hn_1*b;\n",
    "    Hn = 1. .* Matrix(I, n, n);\n",
    "    Hn[2:end, 2:end] = Hn_1;\n",
    "    \n",
    "    # Previous Householder matrix\n",
    "    DD, Hn_2 = householder_tridiagonlize(D);  # Diagonalised D and matrix used\n",
    "    Hn_2_ext   = 1. .* Array(I, n, n);    # Start with old Hn_1 and make new one\n",
    "    Hn_2_ext[2:end, 2:end] = Hn_2;        # Adjust it to size n\n",
    "    \n",
    "    \n",
    "    # Now work with current matrix\n",
    "    H = Hn*Hn_2_ext;\n",
    "    A[2:end, 1] = d;\n",
    "    A[1, 2:end] = d';\n",
    "    A[2:end, 2:end] = DD;\n",
    "    return A, H;\n",
    "end"
   ]
  },
  {
   "cell_type": "code",
   "execution_count": 12,
   "metadata": {},
   "outputs": [
    {
     "data": {
      "text/plain": [
       "5×5 Array{Float64,2}:\n",
       " 1.69364   1.00461   0.906304   1.25918   0.113917\n",
       " 1.00461   1.70888   1.19435    0.597512  0.413359\n",
       " 0.906304  1.19435   0.0712916  0.588628  1.36575\n",
       " 1.25918   0.597512  0.588628   0.925937  1.57734\n",
       " 0.113917  0.413359  1.36575    1.57734   1.1419"
      ]
     },
     "metadata": {},
     "output_type": "display_data"
    },
    {
     "data": {
      "text/plain": [
       "5×5 Array{Float64,2}:\n",
       "  1.69364      -1.8518        0.0        8.32667e-17   0.0\n",
       " -1.8518        2.66111      -1.99825    1.11022e-16  -3.33067e-16\n",
       "  0.0          -1.99825       0.392891  -0.799317      0.0\n",
       "  8.32667e-17   1.11022e-16  -0.799317   0.363879      0.888197\n",
       "  0.0          -3.33067e-16   0.0        0.888197      0.430128"
      ]
     },
     "metadata": {},
     "output_type": "display_data"
    }
   ],
   "source": [
    "AA = rand(5, 5);\n",
    "A = AA+AA';\n",
    "display(A);\n",
    "T, Q = householder_tridiagonlize(A);\n",
    "display(T)"
   ]
  },
  {
   "cell_type": "code",
   "execution_count": 13,
   "metadata": {},
   "outputs": [
    {
     "data": {
      "text/plain": [
       "5×5 Array{Float64,2}:\n",
       "  1.69364  -1.8518    0.0        0.0       0.0\n",
       " -1.8518    2.66111  -1.99825    0.0       0.0\n",
       "  0.0      -1.99825   0.392891  -0.799317  0.0\n",
       "  0.0       0.0      -0.799317   0.363879  0.888197\n",
       "  0.0       0.0       0.0        0.888197  0.430128"
      ]
     },
     "metadata": {},
     "output_type": "display_data"
    }
   ],
   "source": [
    "T[abs.(T) .< 1e-15] .= 0\n",
    "display(T)"
   ]
  },
  {
   "cell_type": "code",
   "execution_count": 15,
   "metadata": {},
   "outputs": [
    {
     "data": {
      "text/plain": [
       "5×5 Array{Float64,2}:\n",
       "  1.69364    1.00461   -0.463048  -1.36544    -0.58402\n",
       "  1.00461   -0.471648  -0.825132  -1.05035     0.822044\n",
       " -0.463048  -0.825132   0.216067   0.638963   -0.545686\n",
       " -1.36544   -1.05035    0.638963   3.34764    -0.0888681\n",
       " -0.58402    0.822044  -0.545686  -0.0888681   0.755944"
      ]
     },
     "execution_count": 15,
     "metadata": {},
     "output_type": "execute_result"
    }
   ],
   "source": [
    "Q'*A*Q"
   ]
  }
 ],
 "metadata": {
  "kernelspec": {
   "display_name": "Julia 1.5.3",
   "language": "julia",
   "name": "julia-1.5"
  },
  "language_info": {
   "file_extension": ".jl",
   "mimetype": "application/julia",
   "name": "julia",
   "version": "1.5.3"
  }
 },
 "nbformat": 4,
 "nbformat_minor": 4
}
